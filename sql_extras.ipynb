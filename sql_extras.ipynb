{
 "cells": [
  {
   "cell_type": "markdown",
   "metadata": {
    "toc": true
   },
   "source": [
    "<h1>Table of Contents<span class=\"tocSkip\"></span></h1>\n",
    "<div class=\"toc\"><ul class=\"toc-item\"><li><span><a href=\"#What-Does-the-CASE-Statement-Do?\" data-toc-modified-id=\"What-Does-the-CASE-Statement-Do?-1\"><span class=\"toc-item-num\">1&nbsp;&nbsp;</span><font color=\"red\">What Does the <code>CASE</code> Statement Do?</font></a></span><ul class=\"toc-item\"><li><span><a href=\"#Case-Statements\" data-toc-modified-id=\"Case-Statements-1.1\"><span class=\"toc-item-num\">1.1&nbsp;&nbsp;</span>Case Statements</a></span></li></ul></li><li><span><a href=\"#So-What-Can-I-Do-with-a-Case-Statement?\" data-toc-modified-id=\"So-What-Can-I-Do-with-a-Case-Statement?-2\"><span class=\"toc-item-num\">2&nbsp;&nbsp;</span><font color=\"orange\">So What Can I Do with a Case Statement?</font></a></span><ul class=\"toc-item\"><li><ul class=\"toc-item\"><li><span><a href=\"#Create-Categories-to-Classify-Values\" data-toc-modified-id=\"Create-Categories-to-Classify-Values-2.0.1\"><span class=\"toc-item-num\">2.0.1&nbsp;&nbsp;</span>Create Categories to Classify Values</a></span></li><li><span><a href=\"#Normalize-Values-in-Your-Dataset\" data-toc-modified-id=\"Normalize-Values-in-Your-Dataset-2.0.2\"><span class=\"toc-item-num\">2.0.2&nbsp;&nbsp;</span>Normalize Values in Your Dataset</a></span></li><li><span><a href=\"#Create-a-Boolean-Field\" data-toc-modified-id=\"Create-a-Boolean-Field-2.0.3\"><span class=\"toc-item-num\">2.0.3&nbsp;&nbsp;</span>Create a Boolean Field</a></span></li></ul></li></ul></li></ul></div>"
   ]
  },
  {
   "cell_type": "markdown",
   "metadata": {},
   "source": [
    "# SQL Extras\n",
    "\n",
    "## <font color=red>What Does the `CASE` Statement Do?</font>\n",
    "\n",
    "### Case Statements\n",
    "\n",
    "**The SQL `CASE` Statement** is a conditional expression, which allows me to create a new temporary column in mu result set based on 'If this, then...' logic. A `CASE`statement is added to the `SELECT` statement, after all of the existing fields I have selected to display; it begins with `CASE` and ends with `END AS new_field_name`.\n",
    "\n",
    "<div class=\"alert alert-block alert-warning\">It's helpful to include an `ELSE` clause to catch any possible values that fall outside of your conditional clauses because otherwise, if those values exist, they will be returned as `NULL`.</div>\n",
    "\n",
    "## <font color=orange>So What Can I Do with a Case Statement?</font>\n",
    "\n",
    "#### Create Categories to Classify Values\n",
    "\n",
    "Using `CASE` comes in very handy when I want to create categories from existing data based on my dataset using conditionals, but I don't have database permissions to create a new table.\n",
    "\n",
    ">For example, if I have a field called `high_temp` containing integers that represent the high temperature recorded for a particular day, I can add a `CASE` statement to my query that will create a new field called `weather` classifying values in `high_temp` as one of three categorical variables, `cold`, `warm`, `hot`, based on temperature ranges that I set as conditionals.\n",
    "\n",
    "I can create a column of categorical variables from a numeric column. I can even add a `GROUP BY` and a `COUNT(*)` to find out which category in the `weather` field has the highest count.\n",
    "\n",
    "```sql\n",
    "USE us_weather_db;\n",
    "SELECT high_temp,\n",
    "        COUNT(*) AS days,\n",
    "    CASE high_temp > 90 THEN 'hot'\n",
    "        WHEN high_temp BETWEEN 70 AND 90 THEN 'warm'\n",
    "        WHEN high_temp < 70 THEN 'cold'\n",
    "        ELSE 'idk'\n",
    "    END AS 'weather'\n",
    "FROM us_weather\n",
    "GROUP BY high_temp\n",
    "ORDER BY days DESC;\n",
    "```\n",
    "My query can have conditionals that use values from more than one field to create a new column. By throwing in a `COUNT(*) AS number_customers`, I have a useful result set for making comparisons.\n",
    "\n",
    "```sql\n",
    "USE telco_churn;\n",
    "SELECT internet_service_type_id,\n",
    "\t\tdevice_protection,\n",
    "\t\tCOUNT(*) AS number_customers,\n",
    "\tCASE WHEN internet_service_type_id = 1 AND device_protection = 'Yes' THEN 'DSL_Protection'\n",
    "\t\tWHEN internet_service_type_id = 1 AND device_protection = 'No' THEN 'DSL_Unprotected'\n",
    "\t\tWHEN internet_service_type_id = 2 AND device_protection = 'Yes' THEN 'Fiber_Optic_Protected'\n",
    "\t\tWHEN internet_service_type_id = 2 AND device_protection = 'No' THEN 'Fiber_Optic_Unprotected'\n",
    "\t\tWHEN internet_service_type_id = 3 THEN 'No_Internet_Service'\n",
    "\t\tELSE internet_service_type_id\n",
    "\tEND AS internet_types\n",
    "FROM customers\n",
    "GROUP BY internet_service_type_id, device_protection\n",
    "ORDER BY number_customers;\n",
    "```"
   ]
  },
  {
   "cell_type": "markdown",
   "metadata": {},
   "source": [
    "#### Normalize Values in Your Dataset\n",
    "\n",
    "Sometimes my dataset may be messy (hahaha, sometimes), and I will need to normalize the values. `CASE` can come in handy here, as well.\n",
    "\n",
    "```sql\n",
    "SELECT title,\n",
    "       salary,\n",
    "       gender,\n",
    "    CASE gender\n",
    "        WHEN 'M' THEN 'male'\n",
    "        WHEN '0' THEN 'male'\n",
    "        WHEN 'F' THEN 'female'\n",
    "        WHEN '1' THEN 'female'\n",
    "        ELSE 'neither'\n",
    "    END AS gender_norm\n",
    "FROM employees\n",
    "```"
   ]
  },
  {
   "cell_type": "markdown",
   "metadata": {},
   "source": [
    "#### Create a Boolean Field\n",
    "\n",
    "Sometimes it's easier to work with a boolean value, and `CASE` can be helpful here, as well.\n",
    "\n",
    "```sql\n",
    "USE titanic_db;\n",
    "SELECT *,\n",
    "\tCASE sex \n",
    "\t\tWHEN 'female' THEN 1\n",
    "\t\tELSE 0\n",
    "\tEND AS is_female\n",
    "FROM passengers; \n",
    "```"
   ]
  },
  {
   "cell_type": "code",
   "execution_count": null,
   "metadata": {},
   "outputs": [],
   "source": []
  }
 ],
 "metadata": {
  "kernelspec": {
   "display_name": "Python 3",
   "language": "python",
   "name": "python3"
  },
  "language_info": {
   "codemirror_mode": {
    "name": "ipython",
    "version": 3
   },
   "file_extension": ".py",
   "mimetype": "text/x-python",
   "name": "python",
   "nbconvert_exporter": "python",
   "pygments_lexer": "ipython3",
   "version": "3.7.4"
  },
  "toc": {
   "base_numbering": 1,
   "nav_menu": {},
   "number_sections": true,
   "sideBar": true,
   "skip_h1_title": true,
   "title_cell": "Table of Contents",
   "title_sidebar": "Contents",
   "toc_cell": true,
   "toc_position": {},
   "toc_section_display": true,
   "toc_window_display": true
  }
 },
 "nbformat": 4,
 "nbformat_minor": 4
}
