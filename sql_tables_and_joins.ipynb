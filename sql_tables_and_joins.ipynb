{
 "cells": [
  {
   "cell_type": "markdown",
   "metadata": {
    "toc": true
   },
   "source": [
    "<h1>Table of Contents<span class=\"tocSkip\"></span></h1>\n",
    "<div class=\"toc\"><ul class=\"toc-item\"><li><span><a href=\"#What-Makes-Tables-in-a-Database-Relational?\" data-toc-modified-id=\"What-Makes-Tables-in-a-Database-Relational?-1\"><span class=\"toc-item-num\">1&nbsp;&nbsp;</span><font color=\"red\">What Makes Tables in a Database Relational?</font></a></span></li><li><span><a href=\"#So-What-Kinds-of-Joins-Exist?\" data-toc-modified-id=\"So-What-Kinds-of-Joins-Exist?-2\"><span class=\"toc-item-num\">2&nbsp;&nbsp;</span><font color=\"orange\">So What Kinds of Joins Exist?</font></a></span></li><li><span><a href=\"#Now-What?\" data-toc-modified-id=\"Now-What?-3\"><span class=\"toc-item-num\">3&nbsp;&nbsp;</span><font color=\"green\">Now What?</font></a></span></li></ul></div>"
   ]
  },
  {
   "cell_type": "markdown",
   "metadata": {},
   "source": [
    "# SQL Tables and Joins\n",
    "\n",
    "## <font color=red>What Makes Tables in a Database Relational?</font>\n",
    "\n",
    "Often times you will need to combine the information from two or more tables to answer your query. We need to understand the different ways tables relate to each other and how to join them to get at the data we want.\n",
    "\n",
    "**A Primary Key** is the **unique identifier** for a record in a table. You cannot have a Null value in the primary key column, nor can any two records share the same value in this field.\n",
    "\n",
    "**A Foreign Key** is a field in a table that serves as the primary key for another table. Although this field must contain unique values in the table for which it serves as a primary key, it **does NOT have to contain unique values** in the table for which it serves as a foreign key.\n",
    "\n",
    "![keys](https://miro.medium.com/max/2406/1*yW_ha3z8Mp6fUn9m6qWwNw.png)\n",
    "\n",
    "- **A composite key** is when a table has a primary key that's actually a unique combination of more than one column; it's a multiple-column index. The primary key is comprised of a unique combination of two or more fields and serves as the unique identifier for each record.\n",
    "\n",
    "![composite](https://www.callicoder.com/assets/images/post/large/hibernate-composite-primary-key-example-table-structure.jpg)\n",
    "\n",
    "**A One-to-One Relationship** is when each row in one table has only one related row in a second table.\n",
    "\n",
    "**A One-to-Many Relationship** is when one record in a table can be associated with one or more records in another table.\n",
    "\n",
    ">**For Example:** In the CUSTOMERS table above, the CustomerNo field is the primary key and must be unique (ONE). Each customer has a unique code in the CUSTOMERS table but that code can be used multiple times (MANY) in the ORDERS table with the uniqe id OrderNo, the primary key in the ORDERS table. The foreign key field in the ORDERS table, CustomerNo, can appear multiple times because a single customer from the CUSTOMERS table can have multiple orders, each with a unique OrderNo. \n",
    "\n",
    "- **CustomerNo may appear only ONE time in the CUSTOMERS table but MANY times in its related ORDERS table. One-to-Many**\n",
    "\n",
    "**A Many-to-Many Relationship** is when multiple records in one table are associated with multiple records in another table. To make this type of relationship work, we need a junction table that holds the primary keys of the two or more tables that have many-to-many relationships.\n",
    "\n",
    ">**For Example:** Say we had a table called Students that had a primary key called StudentID representing a student at UTSA and a table called Classes that had a primary key called ClassID representing the different classes offered in a given semester. \n",
    "\n",
    "| StudentID | StudentName |                  \n",
    "|:----------|:--------|                       \n",
    "| 1 | John |                                  \n",
    "| 2 | Faith |                                 \n",
    "                                              \n",
    "                                              \n",
    "|  ClassID | ClassName |\n",
    "|:----------|:--------|\n",
    "| 1 | math |\n",
    "| 3 | science |\n",
    "| 4 | art |\n",
    "| 5 | yoga |\n",
    "| 9 | fencing |\n",
    "\n",
    ">The StudentID would have to be a unique identifier for each record in the Students table, but one student is most likely taking more than one class a semester. One student can take multiple classes, but each class will also have more than one student enrolled for the semester. This is a many-to-many relationship, so if we tried to put StudentID in the same table as ClassID, we would have multiple values in a single field. This is not ideal!\n",
    "\n",
    "| StudentID | ClassID | StudentName |\n",
    "|:----------|:--------|:------------|\n",
    "| 1 | 3, 5, 9 | John |\n",
    "| 2 | 1, 4, 5, 9 | Faith |\n",
    "\n",
    "<div class=\"alert alert-block alert-info\"><b>This is where we need a Joining Table to play the middle person!</b></div>\n",
    "\n",
    "**An Associative or Joining Table** maps two or more tables together by referencing the primary keys of each table. A junction table can be thought of as a base table that resolves many-to-many relationships; it contains the primary keys for each table it cross references or joins. \n",
    "\n",
    ">**For Example:** We could have a joiner table called Enrollment, like you see below, that holds and connects the primary keys for both the Students and Classes tables.\n",
    "\n",
    "| StudentID | ClassID |\n",
    "|:----------|:--------|\n",
    "| 1 | 3 |\n",
    "| 1 | 5 |\n",
    "| 1 | 9 |\n",
    "| 2 | 1 |\n",
    "| 2 | 4 |\n",
    "| 2 | 5 |\n",
    "| 2 | 9 |\n",
    "\n",
    "<font color='purple'>**Let's check out how to join the information in these different kinds of tables.**</font>"
   ]
  },
  {
   "cell_type": "markdown",
   "metadata": {},
   "source": [
    "## <font color=orange>So What Kinds of Joins Exist?</font>\n",
    "\n",
    "\n",
    "\n",
    "## <font color=green>Now What?</font>"
   ]
  },
  {
   "cell_type": "code",
   "execution_count": null,
   "metadata": {},
   "outputs": [],
   "source": []
  }
 ],
 "metadata": {
  "kernelspec": {
   "display_name": "Python 3",
   "language": "python",
   "name": "python3"
  },
  "language_info": {
   "codemirror_mode": {
    "name": "ipython",
    "version": 3
   },
   "file_extension": ".py",
   "mimetype": "text/x-python",
   "name": "python",
   "nbconvert_exporter": "python",
   "pygments_lexer": "ipython3",
   "version": "3.7.4"
  },
  "toc": {
   "base_numbering": 1,
   "nav_menu": {},
   "number_sections": true,
   "sideBar": true,
   "skip_h1_title": true,
   "title_cell": "Table of Contents",
   "title_sidebar": "Contents",
   "toc_cell": true,
   "toc_position": {},
   "toc_section_display": true,
   "toc_window_display": true
  }
 },
 "nbformat": 4,
 "nbformat_minor": 4
}
